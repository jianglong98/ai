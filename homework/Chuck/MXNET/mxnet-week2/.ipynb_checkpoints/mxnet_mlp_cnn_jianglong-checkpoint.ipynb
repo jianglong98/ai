{
 "cells": [
  {
   "cell_type": "code",
   "execution_count": null,
   "metadata": {
    "collapsed": true
   },
   "outputs": [],
   "source": [
    "import mxnet as mx\n",
    "import numpy as np\n",
    "import cv2\n",
    "import logging\n",
    "from data import get_mnist\n",
    "from mlp_sym import get_mlp_sym\n",
    "from mlp_sym import get_conv_sym\n",
    "\n",
    "logging.getLogger().setLevel(logging.DEBUG)  # logging to stdout\n",
    "\n",
    "TEST = False"
   ]
  },
  {
   "cell_type": "code",
   "execution_count": null,
   "metadata": {
    "collapsed": true
   },
   "outputs": [],
   "source": [
    "# Get the data iterator\n",
    "batch_size = 100\n",
    "train_iter, val_iter = get_mnist(batch_size)"
   ]
  },
  {
   "cell_type": "code",
   "execution_count": null,
   "metadata": {
    "collapsed": true
   },
   "outputs": [],
   "source": [
    "# Get MLP symbol\n",
    "mlp_model = get_mlp_sym()\n",
    "# Viz the graph and save the plot for debugging\n",
    "plot = mx.viz.plot_network(mlp_model, title=\"mlp\", save_format=\"pdf\", hide_weights=True)\n",
    "plot.render(\"MLP\")"
   ]
  },
  {
   "cell_type": "code",
   "execution_count": null,
   "metadata": {
    "collapsed": true
   },
   "outputs": [],
   "source": []
  }
 ],
 "metadata": {
  "kernelspec": {
   "display_name": "Python 2",
   "language": "python",
   "name": "python2"
  },
  "language_info": {
   "codemirror_mode": {
    "name": "ipython",
    "version": 2
   },
   "file_extension": ".py",
   "mimetype": "text/x-python",
   "name": "python",
   "nbconvert_exporter": "python",
   "pygments_lexer": "ipython2",
   "version": "2.7.13"
  }
 },
 "nbformat": 4,
 "nbformat_minor": 1
}
