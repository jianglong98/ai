{
 "cells": [
  {
   "cell_type": "code",
   "execution_count": 4,
   "metadata": {
    "collapsed": true
   },
   "outputs": [],
   "source": [
    "import mxnet as mx\n",
    "import numpy as np\n",
    "import cv2\n",
    "import logging\n",
    "from data import get_mnist\n",
    "from mlp_sym import get_mlp_sym\n",
    "from mlp_sym import get_conv_sym\n",
    "\n",
    "logging.getLogger().setLevel(logging.DEBUG)  # logging to stdout\n",
    "\n",
    "TEST = False"
   ]
  },
  {
   "cell_type": "code",
   "execution_count": 5,
   "metadata": {},
   "outputs": [
    {
     "name": "stderr",
     "output_type": "stream",
     "text": [
      "INFO:root:train-labels-idx1-ubyte.gz exists, skip to downloada\n",
      "INFO:root:train-images-idx3-ubyte.gz exists, skip to downloada\n",
      "INFO:root:t10k-labels-idx1-ubyte.gz exists, skip to downloada\n",
      "INFO:root:t10k-images-idx3-ubyte.gz exists, skip to downloada\n"
     ]
    }
   ],
   "source": [
    "# Get the data iterator\n",
    "batch_size = 100\n",
    "train_iter, val_iter = get_mnist(batch_size)"
   ]
  },
  {
   "cell_type": "code",
   "execution_count": 3,
   "metadata": {},
   "outputs": [
    {
     "name": "stdout",
     "output_type": "stream",
     "text": [
      "/Users/jianglong/Google Drive/AI-DS502/ai/homework/Chuck/MXNET/mxnet-week2\n"
     ]
    }
   ],
   "source": [
    "import os\n",
    "cwd = os.getcwd()\n",
    "print(cwd)"
   ]
  },
  {
   "cell_type": "code",
   "execution_count": null,
   "metadata": {
    "collapsed": true
   },
   "outputs": [],
   "source": [
    "# Get MLP symbol\n",
    "mlp_model = get_mlp_sym()\n",
    "# Viz the graph and save the plot for debugging\n",
    "plot = mx.viz.plot_network(mlp_model, title=\"mlp\", save_format=\"pdf\", hide_weights=True)\n",
    "plot.render(\"MLP\")"
   ]
  },
  {
   "cell_type": "heading",
   "level": 1,
   "metadata": {},
   "source": []
  },
  {
   "cell_type": "code",
   "execution_count": null,
   "metadata": {
    "collapsed": true
   },
   "outputs": [],
   "source": [
    "# create a trainable module on CPU\n",
    "mod = mx.mod.Module(symbol=mlp_model, context=mx.cpu())\n",
    "mod.fit(train_iter,  # train data\n",
    "      eval_data=val_iter,  # validation data\n",
    "      optimizer='sgd',  # use SGD to train\n",
    "      optimizer_params={'learning_rate': 0.1},  # use fixed learning rate\n",
    "      eval_metric='acc',  # report accuracy during training\n",
    "      batch_end_callback=mx.callback.Speedometer(batch_size, 100),\n",
    "      # output progress for each 100 data batches\n",
    "      num_epoch=5)"
   ]
  },
  {
   "cell_type": "heading",
   "level": 1,
   "metadata": {},
   "source": []
  },
  {
   "cell_type": "code",
   "execution_count": null,
   "metadata": {
    "collapsed": true
   },
   "outputs": [],
   "source": [
    "# create a trainable module on GPU\n",
    "mod = mx.mod.Module(symbol=mlp_model, context=mx.gpu(0))\n",
    "mod.fit(train_iter,  # train data\n",
    "      eval_data=val_iter,  # validation data\n",
    "      optimizer='sgd',  # use SGD to train\n",
    "      optimizer_params={'learning_rate': 0.1},  # use fixed learning rate\n",
    "      eval_metric='acc',  # report accuracy during training\n",
    "      batch_end_callback=mx.callback.Speedometer(batch_size, 100),\n",
    "      # output progress for each 100 data batches\n",
    "      num_epoch=5)"
   ]
  },
  {
   "cell_type": "heading",
   "level": 1,
   "metadata": {},
   "source": []
  },
  {
   "cell_type": "code",
   "execution_count": null,
   "metadata": {
    "collapsed": true
   },
   "outputs": [],
   "source": [
    "# Get CNN symbol\n",
    "cnn_model = get_conv_sym()\n",
    "# Viz the graph and save the plot for debugging\n",
    "plot = mx.viz.plot_network(cnn_model, title=\"cnn\", save_format=\"pdf\", hide_weights=True)\n",
    "plot.render(\"CNN\")"
   ]
  },
  {
   "cell_type": "heading",
   "level": 1,
   "metadata": {},
   "source": []
  },
  {
   "cell_type": "code",
   "execution_count": null,
   "metadata": {
    "collapsed": true
   },
   "outputs": [],
   "source": [
    "# create a trainable module on CPU/GPU\n",
    "mod = mx.mod.Module(symbol=cnn_model, context=mx.cpu())\n",
    "mod.fit(train_iter,  # train data\n",
    "      eval_data=val_iter,  # validation data\n",
    "      optimizer='sgd',  # use SGD to train\n",
    "      optimizer_params={'learning_rate': 0.1},  # use fixed learning rate\n",
    "      eval_metric='acc',  # report accuracy during training\n",
    "      batch_end_callback=mx.callback.Speedometer(batch_size, 100),\n",
    "      # output progress for each 100 data batches\n",
    "      num_epoch=5)"
   ]
  },
  {
   "cell_type": "heading",
   "level": 1,
   "metadata": {},
   "source": []
  },
  {
   "cell_type": "code",
   "execution_count": null,
   "metadata": {
    "collapsed": true
   },
   "outputs": [],
   "source": [
    "# create a trainable module on CPU/GPU\n",
    "mod = mx.mod.Module(symbol=cnn_model, context=mx.gpu(0))\n",
    "mod.fit(train_iter,  # train data\n",
    "      eval_data=val_iter,  # validation data\n",
    "      optimizer='sgd',  # use SGD to train\n",
    "      optimizer_params={'learning_rate': 0.1},  # use fixed learning rate\n",
    "      eval_metric='acc',  # report accuracy during training\n",
    "      batch_end_callback=mx.callback.Speedometer(batch_size, 100),\n",
    "      # output progress for each 100 data batches\n",
    "      num_epoch=5)"
   ]
  },
  {
   "cell_type": "heading",
   "level": 1,
   "metadata": {},
   "source": [
    "Compare MLP and CNN"
   ]
  },
  {
   "cell_type": "heading",
   "level": 2,
   "metadata": {},
   "source": [
    "compare\n",
    "Comparison\tMLP\tYour Network\n",
    "Acc(5 epoch)\t0.9745\t0.9816\n",
    "CPU Epoch time\t3.431\t79.036\n",
    "GPU Epoch Time(optional)\t1.191\t9.669"
   ]
  },
  {
   "cell_type": "code",
   "execution_count": 2,
   "metadata": {
    "collapsed": true
   },
   "outputs": [],
   "source": []
  },
  {
   "cell_type": "code",
   "execution_count": null,
   "metadata": {
    "collapsed": true
   },
   "outputs": [],
   "source": []
  }
 ],
 "metadata": {
  "kernelspec": {
   "display_name": "Python 2",
   "language": "python",
   "name": "python2"
  },
  "language_info": {
   "codemirror_mode": {
    "name": "ipython",
    "version": 2
   },
   "file_extension": ".py",
   "mimetype": "text/x-python",
   "name": "python",
   "nbconvert_exporter": "python",
   "pygments_lexer": "ipython2",
   "version": "2.7.13"
  }
 },
 "nbformat": 4,
 "nbformat_minor": 1
}
