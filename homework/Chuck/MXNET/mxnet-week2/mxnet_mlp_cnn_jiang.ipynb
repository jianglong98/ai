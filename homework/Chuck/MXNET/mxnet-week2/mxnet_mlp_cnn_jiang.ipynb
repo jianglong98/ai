{
 "cells": [
  {
   "cell_type": "code",
   "execution_count": 4,
   "metadata": {},
   "outputs": [
    {
     "ename": "ImportError",
     "evalue": "No module named data",
     "traceback": [
      "\u001b[0;31m---------------------------------------------------------------------------\u001b[0m",
      "\u001b[0;31mImportError\u001b[0m                               Traceback (most recent call last)",
      "\u001b[0;32m<ipython-input-4-379cc2bc87b5>\u001b[0m in \u001b[0;36m<module>\u001b[0;34m()\u001b[0m\n\u001b[1;32m      3\u001b[0m \u001b[0;32mimport\u001b[0m \u001b[0mcv2\u001b[0m\u001b[0;34m\u001b[0m\u001b[0m\n\u001b[1;32m      4\u001b[0m \u001b[0;32mimport\u001b[0m \u001b[0mlogging\u001b[0m\u001b[0;34m\u001b[0m\u001b[0m\n\u001b[0;32m----> 5\u001b[0;31m \u001b[0;32mfrom\u001b[0m \u001b[0mdata\u001b[0m \u001b[0;32mimport\u001b[0m \u001b[0mget_mnist\u001b[0m\u001b[0;34m\u001b[0m\u001b[0m\n\u001b[0m\u001b[1;32m      6\u001b[0m \u001b[0;32mfrom\u001b[0m \u001b[0mmlp_sym\u001b[0m \u001b[0;32mimport\u001b[0m \u001b[0mget_mlp_sym\u001b[0m\u001b[0;34m\u001b[0m\u001b[0m\n\u001b[1;32m      7\u001b[0m \u001b[0;32mfrom\u001b[0m \u001b[0mmlp_sym\u001b[0m \u001b[0;32mimport\u001b[0m \u001b[0mget_conv_sym\u001b[0m\u001b[0;34m\u001b[0m\u001b[0m\n",
      "\u001b[0;31mImportError\u001b[0m: No module named data"
     ],
     "output_type": "error"
    }
   ],
   "source": [
    "import mxnet as mx\n",
    "import numpy as np\n",
    "import cv2\n",
    "import logging\n",
    "from data import get_mnist\n",
    "from mlp_sym import get_mlp_sym\n",
    "from mlp_sym import get_conv_sym\n",
    "\n",
    "logging.getLogger().setLevel(logging.DEBUG)  # logging to stdout\n",
    "\n",
    "TEST = False"
   ]
  },
  {
   "cell_type": "code",
   "execution_count": null,
   "metadata": {},
   "outputs": [],
   "source": [
    "# Get the data iterator\n",
    "batch_size = 100\n",
    "train_iter, val_iter = get_mnist(batch_size)"
   ]
  },
  {
   "cell_type": "code",
   "execution_count": null,
   "metadata": {},
   "outputs": [],
   "source": [
    "# Get MLP symbol\n",
    "mlp_model = get_mlp_sym()\n",
    "# Viz the graph and save the plot for debugging\n",
    "plot = mx.viz.plot_network(mlp_model, title=\"mlp\", save_format=\"pdf\", hide_weights=True)\n",
    "plot.render(\"MLP\")"
   ]
  },
  {
   "cell_type": "heading",
   "metadata": {},
   "level": 1,
   "source": [
    ""
   ]
  },
  {
   "cell_type": "code",
   "execution_count": null,
   "metadata": {},
   "outputs": [],
   "source": [
    "# create a trainable module on CPU\n",
    "mod = mx.mod.Module(symbol=mlp_model, context=mx.cpu())\n",
    "mod.fit(train_iter,  # train data\n",
    "      eval_data=val_iter,  # validation data\n",
    "      optimizer='sgd',  # use SGD to train\n",
    "      optimizer_params={'learning_rate': 0.1},  # use fixed learning rate\n",
    "      eval_metric='acc',  # report accuracy during training\n",
    "      batch_end_callback=mx.callback.Speedometer(batch_size, 100),\n",
    "      # output progress for each 100 data batches\n",
    "      num_epoch=5)"
   ]
  },
  {
   "cell_type": "heading",
   "metadata": {},
   "level": 1,
   "source": [
    ""
   ]
  },
  {
   "cell_type": "code",
   "execution_count": null,
   "metadata": {},
   "outputs": [],
   "source": [
    "# create a trainable module on GPU\n",
    "mod = mx.mod.Module(symbol=mlp_model, context=mx.gpu(0))\n",
    "mod.fit(train_iter,  # train data\n",
    "      eval_data=val_iter,  # validation data\n",
    "      optimizer='sgd',  # use SGD to train\n",
    "      optimizer_params={'learning_rate': 0.1},  # use fixed learning rate\n",
    "      eval_metric='acc',  # report accuracy during training\n",
    "      batch_end_callback=mx.callback.Speedometer(batch_size, 100),\n",
    "      # output progress for each 100 data batches\n",
    "      num_epoch=5)"
   ]
  },
  {
   "cell_type": "heading",
   "metadata": {},
   "level": 1,
   "source": [
    ""
   ]
  },
  {
   "cell_type": "code",
   "execution_count": null,
   "metadata": {},
   "outputs": [],
   "source": [
    "# Get CNN symbol\n",
    "cnn_model = get_conv_sym()\n",
    "# Viz the graph and save the plot for debugging\n",
    "plot = mx.viz.plot_network(cnn_model, title=\"cnn\", save_format=\"pdf\", hide_weights=True)\n",
    "plot.render(\"CNN\")"
   ]
  },
  {
   "cell_type": "heading",
   "metadata": {},
   "level": 1,
   "source": [
    ""
   ]
  },
  {
   "cell_type": "code",
   "execution_count": null,
   "metadata": {},
   "outputs": [],
   "source": [
    "# create a trainable module on CPU/GPU\n",
    "mod = mx.mod.Module(symbol=cnn_model, context=mx.cpu())\n",
    "mod.fit(train_iter,  # train data\n",
    "      eval_data=val_iter,  # validation data\n",
    "      optimizer='sgd',  # use SGD to train\n",
    "      optimizer_params={'learning_rate': 0.1},  # use fixed learning rate\n",
    "      eval_metric='acc',  # report accuracy during training\n",
    "      batch_end_callback=mx.callback.Speedometer(batch_size, 100),\n",
    "      # output progress for each 100 data batches\n",
    "      num_epoch=5)"
   ]
  },
  {
   "cell_type": "heading",
   "metadata": {},
   "level": 1,
   "source": [
    ""
   ]
  },
  {
   "cell_type": "code",
   "execution_count": null,
   "metadata": {},
   "outputs": [],
   "source": [
    "# create a trainable module on CPU/GPU\n",
    "mod = mx.mod.Module(symbol=cnn_model, context=mx.gpu(0))\n",
    "mod.fit(train_iter,  # train data\n",
    "      eval_data=val_iter,  # validation data\n",
    "      optimizer='sgd',  # use SGD to train\n",
    "      optimizer_params={'learning_rate': 0.1},  # use fixed learning rate\n",
    "      eval_metric='acc',  # report accuracy during training\n",
    "      batch_end_callback=mx.callback.Speedometer(batch_size, 100),\n",
    "      # output progress for each 100 data batches\n",
    "      num_epoch=5)"
   ]
  },
  {
   "cell_type": "heading",
   "metadata": {},
   "level": 1,
   "source": [
    "Compare MLP and CNN"
   ]
  },
  {
   "cell_type": "markdown",
   "metadata": {},
   "source": [
    "compare\n",
    "Comparison\tMLP\tYour Network\n",
    "Acc(5 epoch)\t0.9745\t0.9816\n",
    "CPU Epoch time\t3.431\t79.036\n",
    "GPU Epoch Time(optional)\t1.191\t9.669"
   ]
  }
 ],
 "metadata": {
  "kernelspec": {
   "display_name": "Python 2",
   "language": "python",
   "name": "python2"
  },
  "language_info": {
   "codemirror_mode": {
    "name": "ipython",
    "version": 2.0
   },
   "file_extension": ".py",
   "mimetype": "text/x-python",
   "name": "python",
   "nbconvert_exporter": "python",
   "pygments_lexer": "ipython2",
   "version": "2.7.12"
  }
 },
 "nbformat": 4,
 "nbformat_minor": 0
}