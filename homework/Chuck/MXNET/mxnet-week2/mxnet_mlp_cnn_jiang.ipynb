{
 "cells": [
  {
   "cell_type": "code",
   "execution_count": 4,
   "metadata": {
    "collapsed": true
   },
   "outputs": [],
   "source": [
    "import mxnet as mx\n",
    "import numpy as np\n",
    "import cv2\n",
    "import logging\n",
    "from data import get_mnist\n",
    "from mlp_sym import get_mlp_sym\n",
    "from mlp_sym import get_conv_sym\n",
    "logging.getLogger().setLevel(logging.DEBUG)  # logging to stdout\n",
    "\n",
    "TEST = False"
   ]
  },
  {
   "cell_type": "code",
   "execution_count": 5,
   "metadata": {},
   "outputs": [
    {
     "name": "stderr",
     "output_type": "stream",
     "text": [
      "INFO:root:train-labels-idx1-ubyte.gz exists, skip to downloada\n",
      "INFO:root:train-images-idx3-ubyte.gz exists, skip to downloada\n",
      "INFO:root:t10k-labels-idx1-ubyte.gz exists, skip to downloada\n",
      "INFO:root:t10k-images-idx3-ubyte.gz exists, skip to downloada\n"
     ]
    }
   ],
   "source": [
    "# Get the data iterator\n",
    "batch_size = 100\n",
    "train_iter, val_iter = get_mnist(batch_size)"
   ]
  },
  {
   "cell_type": "code",
   "execution_count": 3,
   "metadata": {},
   "outputs": [
    {
     "name": "stdout",
     "output_type": "stream",
     "text": [
      "/Users/jianglong/Google Drive/AI-DS502/ai/homework/Chuck/MXNET/mxnet-week2\n"
     ]
    }
   ],
   "source": [
    "import os\n",
    "cwd = os.getcwd()\n",
    "print(cwd)"
   ]
  },
  {
   "cell_type": "code",
   "execution_count": 6,
   "metadata": {
    "collapsed": true
   },
   "outputs": [
    {
     "ename": "NameError",
     "evalue": "name 'get_conv_sym' is not defined",
     "traceback": [
      "\u001b[0;31m\u001b[0m",
      "\u001b[0;31mNameError\u001b[0mTraceback (most recent call last)",
      "\u001b[0;32m<ipython-input-6-590f7038f5dc>\u001b[0m in \u001b[0;36m<module>\u001b[0;34m()\u001b[0m\n\u001b[1;32m      1\u001b[0m \u001b[0;31m# Get MLP symbol\u001b[0m\u001b[0;34m\u001b[0m\u001b[0;34m\u001b[0m\u001b[0m\n\u001b[0;32m----> 2\u001b[0;31m \u001b[0mcnn_model\u001b[0m \u001b[0;34m=\u001b[0m \u001b[0mget_conv_sym\u001b[0m\u001b[0;34m(\u001b[0m\u001b[0;34m)\u001b[0m\u001b[0;34m\u001b[0m\u001b[0m\n\u001b[0m\u001b[1;32m      3\u001b[0m \u001b[0;31m# Viz the graph and save the plot for debugging\u001b[0m\u001b[0;34m\u001b[0m\u001b[0;34m\u001b[0m\u001b[0m\n\u001b[1;32m      4\u001b[0m \u001b[0;31m# plot = mx.viz.plot_network(mlp_model, title=\"mlp\", save_format=\"pdf\", hide_weights=True)\u001b[0m\u001b[0;34m\u001b[0m\u001b[0;34m\u001b[0m\u001b[0m\n\u001b[1;32m      5\u001b[0m \u001b[0;31m#plot.render(\"MLP\")\u001b[0m\u001b[0;34m\u001b[0m\u001b[0;34m\u001b[0m\u001b[0m\n",
      "\u001b[0;31mNameError\u001b[0m: name 'get_conv_sym' is not defined"
     ],
     "output_type": "error"
    }
   ],
   "source": [
    "# Get  symbol\n",
    "cnn_model = get_conv_sym()\n",
    "# Viz the graph and save the plot for debugging\n",
    "# plot = mx.viz.plot_network(mlp_model, title=\"mlp\", save_format=\"pdf\", hide_weights=True)\n",
    "#plot.render(\"MLP\")"
   ]
  },
  {
   "cell_type": "heading",
   "metadata": {},
   "level": 1,
   "source": [
    ""
   ]
  },
  {
   "cell_type": "code",
   "execution_count": 1,
   "metadata": {
    "collapsed": true
   },
   "outputs": [
    {
     "ename": "NameError",
     "evalue": "name 'mx' is not defined",
     "traceback": [
      "\u001b[0;31m\u001b[0m",
      "\u001b[0;31mNameError\u001b[0mTraceback (most recent call last)",
      "\u001b[0;32m<ipython-input-1-89abe9db7f4a>\u001b[0m in \u001b[0;36m<module>\u001b[0;34m()\u001b[0m\n\u001b[1;32m      1\u001b[0m \u001b[0;31m# create a trainable module on CPU\u001b[0m\u001b[0;34m\u001b[0m\u001b[0;34m\u001b[0m\u001b[0m\n\u001b[0;32m----> 2\u001b[0;31m \u001b[0mmod\u001b[0m \u001b[0;34m=\u001b[0m \u001b[0mmx\u001b[0m\u001b[0;34m.\u001b[0m\u001b[0mmod\u001b[0m\u001b[0;34m.\u001b[0m\u001b[0mModule\u001b[0m\u001b[0;34m(\u001b[0m\u001b[0msymbol\u001b[0m\u001b[0;34m=\u001b[0m\u001b[0mmlp_model\u001b[0m\u001b[0;34m,\u001b[0m \u001b[0mcontext\u001b[0m\u001b[0;34m=\u001b[0m\u001b[0mmx\u001b[0m\u001b[0;34m.\u001b[0m\u001b[0mcpu\u001b[0m\u001b[0;34m(\u001b[0m\u001b[0;34m)\u001b[0m\u001b[0;34m)\u001b[0m\u001b[0;34m\u001b[0m\u001b[0m\n\u001b[0m\u001b[1;32m      3\u001b[0m mod.fit(train_iter,  # train data\n\u001b[1;32m      4\u001b[0m       \u001b[0meval_data\u001b[0m\u001b[0;34m=\u001b[0m\u001b[0mval_iter\u001b[0m\u001b[0;34m,\u001b[0m  \u001b[0;31m# validation data\u001b[0m\u001b[0;34m\u001b[0m\u001b[0m\n\u001b[1;32m      5\u001b[0m       \u001b[0moptimizer\u001b[0m\u001b[0;34m=\u001b[0m\u001b[0;34m'sgd'\u001b[0m\u001b[0;34m,\u001b[0m  \u001b[0;31m# use SGD to train\u001b[0m\u001b[0;34m\u001b[0m\u001b[0m\n",
      "\u001b[0;31mNameError\u001b[0m: name 'mx' is not defined"
     ],
     "output_type": "error"
    }
   ],
   "source": [
    "# create a trainable module on CPU\n",
    "mod = mx.mod.Module(symbol=cnn_model, context=mx.cpu())\n",
    "mod.fit(train_iter,  # train data\n",
    "      eval_data=val_iter,  # validation data\n",
    "      optimizer='sgd',  # use SGD to train\n",
    "      optimizer_params={'learning_rate': 0.1},  # use fixed learning rate\n",
    "      eval_metric='acc',  # report accuracy during training\n",
    "      batch_end_callback=mx.callback.Speedometer(batch_size, 100),\n",
    "      # output progress for each 100 data batches\n",
    "      num_epoch=5)"
   ]
  },
  {
   "cell_type": "heading",
   "metadata": {},
   "level": 1,
   "source": [
    ""
   ]
  },
  {
   "cell_type": "code",
   "execution_count": null,
   "metadata": {
    "collapsed": true
   },
   "outputs": [],
   "source": [
    "# create a trainable module on GPU\n",
    "mod = mx.mod.Module(symbol=mlp_model, context=mx.gpu(0))\n",
    "mod.fit(train_iter,  # train data\n",
    "      eval_data=val_iter,  # validation data\n",
    "      optimizer='sgd',  # use SGD to train\n",
    "      optimizer_params={'learning_rate': 0.1},  # use fixed learning rate\n",
    "      eval_metric='acc',  # report accuracy during training\n",
    "      batch_end_callback=mx.callback.Speedometer(batch_size, 100),\n",
    "      # output progress for each 100 data batches\n",
    "      num_epoch=5)"
   ]
  },
  {
   "cell_type": "heading",
   "metadata": {},
   "level": 1,
   "source": []
  },
  {
   "cell_type": "code",
   "execution_count": null,
   "metadata": {
    "collapsed": true
   },
   "outputs": [],
   "source": [
    "# Get CNN symbol\n",
    "cnn_model = get_conv_sym()\n",
    "# Viz the graph and save the plot for debugging\n",
    "plot = mx.viz.plot_network(cnn_model, title=\"cnn\", save_format=\"pdf\", hide_weights=True)\n",
    "plot.render(\"CNN\")"
   ]
  },
  {
   "cell_type": "heading",
   "metadata": {},
   "level": 1,
   "source": []
  },
  {
   "cell_type": "code",
   "execution_count": null,
   "metadata": {
    "collapsed": true
   },
   "outputs": [],
   "source": [
    "# create a trainable module on CPU/GPU\n",
    "mod = mx.mod.Module(symbol=cnn_model, context=mx.cpu())\n",
    "mod.fit(train_iter,  # train data\n",
    "      eval_data=val_iter,  # validation data\n",
    "      optimizer='sgd',  # use SGD to train\n",
    "      optimizer_params={'learning_rate': 0.1},  # use fixed learning rate\n",
    "      eval_metric='acc',  # report accuracy during training\n",
    "      batch_end_callback=mx.callback.Speedometer(batch_size, 100),\n",
    "      # output progress for each 100 data batches\n",
    "      num_epoch=5)"
   ]
  },
  {
   "cell_type": "heading",
   "metadata": {},
   "level": 1,
   "source": []
  },
  {
   "cell_type": "code",
   "execution_count": null,
   "metadata": {
    "collapsed": true
   },
   "outputs": [],
   "source": [
    "# create a trainable module on CPU/GPU\n",
    "mod = mx.mod.Module(symbol=cnn_model, context=mx.gpu(0))\n",
    "mod.fit(train_iter,  # train data\n",
    "      eval_data=val_iter,  # validation data\n",
    "      optimizer='sgd',  # use SGD to train\n",
    "      optimizer_params={'learning_rate': 0.1},  # use fixed learning rate\n",
    "      eval_metric='acc',  # report accuracy during training\n",
    "      batch_end_callback=mx.callback.Speedometer(batch_size, 100),\n",
    "      # output progress for each 100 data batches\n",
    "      num_epoch=5)"
   ]
  },
  {
   "cell_type": "heading",
   "metadata": {},
   "level": 1,
   "source": [
    "Compare MLP and CNN"
   ]
  },
  {
   "cell_type": "heading",
   "metadata": {},
   "level": 2,
   "source": [
    "compare\n",
    "Comparison\tMLP\tYour Network\n",
    "Acc(5 epoch)\t0.9745\t0.9816\n",
    "CPU Epoch time\t3.431\t79.036\n",
    "GPU Epoch Time(optional)\t1.191\t9.669"
   ]
  },
  {
   "cell_type": "code",
   "execution_count": 2,
   "metadata": {
    "collapsed": true
   },
   "outputs": [],
   "source": [
    ""
   ]
  },
  {
   "cell_type": "code",
   "execution_count": null,
   "metadata": {
    "collapsed": true
   },
   "outputs": [],
   "source": [
    ""
   ]
  }
 ],
 "metadata": {
  "kernelspec": {
   "display_name": "Python 2",
   "language": "python",
   "name": "python2"
  },
  "language_info": {
   "codemirror_mode": {
    "name": "ipython",
    "version": 2.0
   },
   "file_extension": ".py",
   "mimetype": "text/x-python",
   "name": "python",
   "nbconvert_exporter": "python",
   "pygments_lexer": "ipython2",
   "version": "2.7.13"
  }
 },
 "nbformat": 4,
 "nbformat_minor": 0
}