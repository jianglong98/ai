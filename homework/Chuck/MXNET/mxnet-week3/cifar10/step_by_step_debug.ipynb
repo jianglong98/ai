{
 "cells": [
  {
   "cell_type": "code",
   "execution_count": 7,
   "metadata": {},
   "outputs": [
    {
     "name": "stdout",
     "output_type": "stream",
     "text": [
      "Populating the interactive namespace from numpy and matplotlib\n"
     ]
    }
   ],
   "source": [
    "import mxnet as mx \n",
    "import matplotlib.pyplot as plt \n",
    "import numpy as np\n",
    "%pylab inline\n",
    "pylab.rcParams['figure.figsize'] = (2, 3)"
   ]
  },
  {
   "cell_type": "code",
   "execution_count": 8,
   "metadata": {},
   "outputs": [
    {
     "ename": "MXNetError",
     "evalue": "[16:19:37] src/io/local_filesys.cc:86: LocalFileSystem.ListDirectory data error: No such file or directory\n\nStack trace returned 10 entries:\n[bt] (0) 0   libmxnet.so                         0x0000000109a0f2b5 _ZN4dmlc15LogMessageFatalD2Ev + 37\n[bt] (1) 1   libmxnet.so                         0x0000000109a0d099 _ZN4dmlc15LogMessageFatalD1Ev + 9\n[bt] (2) 2   libmxnet.so                         0x000000010a353b94 _ZN4dmlc2io15LocalFileSystem13ListDirectoryERKNS0_3URIEPNSt3__16vectorINS0_8FileInfoENS5_9allocatorIS7_EEEE + 1076\n[bt] (3) 3   libmxnet.so                         0x000000010a33ed57 _ZN4dmlc2io14InputSplitBase17InitInputFileInfoERKNSt3__112basic_stringIcNS2_11char_traitsIcEENS2_9allocatorIcEEEE + 1607\n[bt] (4) 4   libmxnet.so                         0x000000010a33e56d _ZN4dmlc2io14InputSplitBase4InitEPNS0_10FileSystemEPKcm + 109\n[bt] (5) 5   libmxnet.so                         0x000000010a34eaeb _ZN4dmlc10InputSplit6CreateEPKcjjS2_ + 539\n[bt] (6) 6   libmxnet.so                         0x000000010a0bf81c _ZN5mxnet2io20ImageRecordIOParser2IfE4InitERKNSt3__16vectorINS3_4pairINS3_12basic_stringIcNS3_11char_traitsIcEENS3_9allocatorIcEEEESB_EENS9_ISC_EEEE + 2124\n[bt] (7) 7   libmxnet.so                         0x000000010a0be9f6 _ZN5mxnet2io16ImageRecordIter2IfE4InitERKNSt3__16vectorINS3_4pairINS3_12basic_stringIcNS3_11char_traitsIcEENS3_9allocatorIcEEEESB_EENS9_ISC_EEEE + 198\n[bt] (8) 8   libmxnet.so                         0x000000010a0214ab MXDataIterCreateIter + 523\n[bt] (9) 9   _ctypes.so                          0x0000000107f89f57 ffi_call_unix64 + 79\n",
     "traceback": [
      "\u001b[0;31m\u001b[0m",
      "\u001b[0;31mMXNetError\u001b[0mTraceback (most recent call last)",
      "\u001b[0;32m<ipython-input-8-3b6f65f4e17c>\u001b[0m in \u001b[0;36m<module>\u001b[0;34m()\u001b[0m\n\u001b[1;32m      5\u001b[0m     \u001b[0mdata_shape\u001b[0m \u001b[0;34m=\u001b[0m \u001b[0;34m(\u001b[0m\u001b[0;36m3\u001b[0m\u001b[0;34m,\u001b[0m\u001b[0;36m28\u001b[0m\u001b[0;34m,\u001b[0m\u001b[0;36m28\u001b[0m\u001b[0;34m)\u001b[0m\u001b[0;34m,\u001b[0m\u001b[0;34m\u001b[0m\u001b[0m\n\u001b[1;32m      6\u001b[0m     \u001b[0mlabel_width\u001b[0m \u001b[0;34m=\u001b[0m \u001b[0;36m1\u001b[0m\u001b[0;34m,\u001b[0m\u001b[0;34m\u001b[0m\u001b[0m\n\u001b[0;32m----> 7\u001b[0;31m     \u001b[0mbatch_size\u001b[0m \u001b[0;34m=\u001b[0m \u001b[0;36m64\u001b[0m\u001b[0;34m\u001b[0m\u001b[0m\n\u001b[0m\u001b[1;32m      8\u001b[0m )\n\u001b[1;32m      9\u001b[0m \u001b[0;32mprint\u001b[0m \u001b[0;34m(\u001b[0m\u001b[0mdata_iter\u001b[0m\u001b[0;34m)\u001b[0m\u001b[0;34m\u001b[0m\u001b[0m\n",
      "\u001b[0;32m/Users/jianglong/anaconda/lib/python2.7/site-packages/mxnet/io.pyc\u001b[0m in \u001b[0;36mcreator\u001b[0;34m(*args, **kwargs)\u001b[0m\n\u001b[1;32m    835\u001b[0m             \u001b[0mmx_uint\u001b[0m\u001b[0;34m(\u001b[0m\u001b[0mlen\u001b[0m\u001b[0;34m(\u001b[0m\u001b[0mparam_keys\u001b[0m\u001b[0;34m)\u001b[0m\u001b[0;34m)\u001b[0m\u001b[0;34m,\u001b[0m\u001b[0;34m\u001b[0m\u001b[0m\n\u001b[1;32m    836\u001b[0m             \u001b[0mparam_keys\u001b[0m\u001b[0;34m,\u001b[0m \u001b[0mparam_vals\u001b[0m\u001b[0;34m,\u001b[0m\u001b[0;34m\u001b[0m\u001b[0m\n\u001b[0;32m--> 837\u001b[0;31m             ctypes.byref(iter_handle)))\n\u001b[0m\u001b[1;32m    838\u001b[0m \u001b[0;34m\u001b[0m\u001b[0m\n\u001b[1;32m    839\u001b[0m         \u001b[0;32mif\u001b[0m \u001b[0mlen\u001b[0m\u001b[0;34m(\u001b[0m\u001b[0margs\u001b[0m\u001b[0;34m)\u001b[0m\u001b[0;34m:\u001b[0m\u001b[0;34m\u001b[0m\u001b[0m\n",
      "\u001b[0;32m/Users/jianglong/anaconda/lib/python2.7/site-packages/mxnet/base.pyc\u001b[0m in \u001b[0;36mcheck_call\u001b[0;34m(ret)\u001b[0m\n\u001b[1;32m     82\u001b[0m     \"\"\"\n\u001b[1;32m     83\u001b[0m     \u001b[0;32mif\u001b[0m \u001b[0mret\u001b[0m \u001b[0;34m!=\u001b[0m \u001b[0;36m0\u001b[0m\u001b[0;34m:\u001b[0m\u001b[0;34m\u001b[0m\u001b[0m\n\u001b[0;32m---> 84\u001b[0;31m         \u001b[0;32mraise\u001b[0m \u001b[0mMXNetError\u001b[0m\u001b[0;34m(\u001b[0m\u001b[0mpy_str\u001b[0m\u001b[0;34m(\u001b[0m\u001b[0m_LIB\u001b[0m\u001b[0;34m.\u001b[0m\u001b[0mMXGetLastError\u001b[0m\u001b[0;34m(\u001b[0m\u001b[0;34m)\u001b[0m\u001b[0;34m)\u001b[0m\u001b[0;34m)\u001b[0m\u001b[0;34m\u001b[0m\u001b[0m\n\u001b[0m\u001b[1;32m     85\u001b[0m \u001b[0;34m\u001b[0m\u001b[0m\n\u001b[1;32m     86\u001b[0m \u001b[0;32mif\u001b[0m \u001b[0msys\u001b[0m\u001b[0;34m.\u001b[0m\u001b[0mversion_info\u001b[0m\u001b[0;34m[\u001b[0m\u001b[0;36m0\u001b[0m\u001b[0;34m]\u001b[0m \u001b[0;34m<\u001b[0m \u001b[0;36m3\u001b[0m\u001b[0;34m:\u001b[0m\u001b[0;34m\u001b[0m\u001b[0m\n",
      "\u001b[0;31mMXNetError\u001b[0m: [16:19:37] src/io/local_filesys.cc:86: LocalFileSystem.ListDirectory data error: No such file or directory\n\nStack trace returned 10 entries:\n[bt] (0) 0   libmxnet.so                         0x0000000109a0f2b5 _ZN4dmlc15LogMessageFatalD2Ev + 37\n[bt] (1) 1   libmxnet.so                         0x0000000109a0d099 _ZN4dmlc15LogMessageFatalD1Ev + 9\n[bt] (2) 2   libmxnet.so                         0x000000010a353b94 _ZN4dmlc2io15LocalFileSystem13ListDirectoryERKNS0_3URIEPNSt3__16vectorINS0_8FileInfoENS5_9allocatorIS7_EEEE + 1076\n[bt] (3) 3   libmxnet.so                         0x000000010a33ed57 _ZN4dmlc2io14InputSplitBase17InitInputFileInfoERKNSt3__112basic_stringIcNS2_11char_traitsIcEENS2_9allocatorIcEEEE + 1607\n[bt] (4) 4   libmxnet.so                         0x000000010a33e56d _ZN4dmlc2io14InputSplitBase4InitEPNS0_10FileSystemEPKcm + 109\n[bt] (5) 5   libmxnet.so                         0x000000010a34eaeb _ZN4dmlc10InputSplit6CreateEPKcjjS2_ + 539\n[bt] (6) 6   libmxnet.so                         0x000000010a0bf81c _ZN5mxnet2io20ImageRecordIOParser2IfE4InitERKNSt3__16vectorINS3_4pairINS3_12basic_stringIcNS3_11char_traitsIcEENS3_9allocatorIcEEEESB_EENS9_ISC_EEEE + 2124\n[bt] (7) 7   libmxnet.so                         0x000000010a0be9f6 _ZN5mxnet2io16ImageRecordIter2IfE4InitERKNSt3__16vectorINS3_4pairINS3_12basic_stringIcNS3_11char_traitsIcEENS3_9allocatorIcEEEESB_EENS9_ISC_EEEE + 198\n[bt] (8) 8   libmxnet.so                         0x000000010a0214ab MXDataIterCreateIter + 523\n[bt] (9) 9   _ctypes.so                          0x0000000107f89f57 ffi_call_unix64 + 79\n"
     ],
     "output_type": "error"
    }
   ],
   "source": [
    "# Step 1 data\n",
    "# input data debug\n",
    "data_iter = mx.io.ImageRecordIter(\n",
    "    path_imgrec = 'data/cifar10_train.rec',\n",
    "    data_shape = (3,28,28),\n",
    "    label_width = 1,\n",
    "    batch_size = 128\n",
    ")\n",
    "print (data_iter)\n",
    "i = 0\n",
    "for each in data_iter:\n",
    "    i+=1\n",
    "    if i>5:\n",
    "        break\n",
    "    print each\n",
    "batch_numpy = each.data[0].asnumpy()\n",
    "label_numpy = each.label[0].asnumpy()\n",
    "print (type(batch_numpy))\n",
    "print (type(label_numpy))\n",
    "\n",
    "#show img\n",
    "randidx = np.random.randint(0,128)\n",
    "img = batch_numpy[randidx]\n",
    "img = np.squeeze(img).sum(axis=0)\n",
    "plt.imshow(img, cmap='gray')\n",
    "plt.show()"
   ]
  },
  {
   "cell_type": "code",
   "execution_count": 9,
   "metadata": {
    "scrolled": false
   },
   "outputs": [
    {
     "ename": "ImportError",
     "evalue": "No module named symbols.resnet",
     "traceback": [
      "\u001b[0;31m\u001b[0m",
      "\u001b[0;31mImportError\u001b[0mTraceback (most recent call last)",
      "\u001b[0;32m<ipython-input-9-87e12a16d7d4>\u001b[0m in \u001b[0;36m<module>\u001b[0;34m()\u001b[0m\n\u001b[1;32m      1\u001b[0m \u001b[0;31m# debug model\u001b[0m\u001b[0;34m\u001b[0m\u001b[0;34m\u001b[0m\u001b[0m\n\u001b[1;32m      2\u001b[0m \u001b[0;32mfrom\u001b[0m \u001b[0mimportlib\u001b[0m \u001b[0;32mimport\u001b[0m \u001b[0mimport_module\u001b[0m\u001b[0;34m\u001b[0m\u001b[0m\n\u001b[0;32m----> 3\u001b[0;31m \u001b[0mnet\u001b[0m \u001b[0;34m=\u001b[0m \u001b[0mimport_module\u001b[0m\u001b[0;34m(\u001b[0m\u001b[0;34m'symbols.'\u001b[0m\u001b[0;34m+\u001b[0m\u001b[0;34m'resnet'\u001b[0m\u001b[0;34m)\u001b[0m\u001b[0;34m\u001b[0m\u001b[0m\n\u001b[0m\u001b[1;32m      4\u001b[0m \u001b[0msym\u001b[0m \u001b[0;34m=\u001b[0m \u001b[0mnet\u001b[0m\u001b[0;34m.\u001b[0m\u001b[0mget_symbol\u001b[0m\u001b[0;34m(\u001b[0m\u001b[0;36m10\u001b[0m\u001b[0;34m,\u001b[0m\u001b[0;36m20\u001b[0m\u001b[0;34m,\u001b[0m\u001b[0;34m\"3,28,28\"\u001b[0m\u001b[0;34m)\u001b[0m\u001b[0;34m\u001b[0m\u001b[0m\n\u001b[1;32m      5\u001b[0m \u001b[0mmodel_prefix\u001b[0m \u001b[0;34m=\u001b[0m \u001b[0;34m'cifar10_resnet'\u001b[0m\u001b[0;34m\u001b[0m\u001b[0m\n",
      "\u001b[0;32m/Users/jianglong/anaconda/lib/python2.7/importlib/__init__.pyc\u001b[0m in \u001b[0;36mimport_module\u001b[0;34m(name, package)\u001b[0m\n\u001b[1;32m     35\u001b[0m             \u001b[0mlevel\u001b[0m \u001b[0;34m+=\u001b[0m \u001b[0;36m1\u001b[0m\u001b[0;34m\u001b[0m\u001b[0m\n\u001b[1;32m     36\u001b[0m         \u001b[0mname\u001b[0m \u001b[0;34m=\u001b[0m \u001b[0m_resolve_name\u001b[0m\u001b[0;34m(\u001b[0m\u001b[0mname\u001b[0m\u001b[0;34m[\u001b[0m\u001b[0mlevel\u001b[0m\u001b[0;34m:\u001b[0m\u001b[0;34m]\u001b[0m\u001b[0;34m,\u001b[0m \u001b[0mpackage\u001b[0m\u001b[0;34m,\u001b[0m \u001b[0mlevel\u001b[0m\u001b[0;34m)\u001b[0m\u001b[0;34m\u001b[0m\u001b[0m\n\u001b[0;32m---> 37\u001b[0;31m     \u001b[0m__import__\u001b[0m\u001b[0;34m(\u001b[0m\u001b[0mname\u001b[0m\u001b[0;34m)\u001b[0m\u001b[0;34m\u001b[0m\u001b[0m\n\u001b[0m\u001b[1;32m     38\u001b[0m     \u001b[0;32mreturn\u001b[0m \u001b[0msys\u001b[0m\u001b[0;34m.\u001b[0m\u001b[0mmodules\u001b[0m\u001b[0;34m[\u001b[0m\u001b[0mname\u001b[0m\u001b[0;34m]\u001b[0m\u001b[0;34m\u001b[0m\u001b[0m\n",
      "\u001b[0;31mImportError\u001b[0m: No module named symbols.resnet"
     ],
     "output_type": "error"
    }
   ],
   "source": [
    "# debug model\n",
    "from importlib import import_module\n",
    "net = import_module('symbols.'+'resnet')\n",
    "sym = net.get_symbol(10,20,\"3,28,28\")\n",
    "model_prefix = 'cifar10_resnet'\n",
    "#check_point = mx.callback.do_checkpoint(model_prefix)\n",
    "arg_name = sym.list_arguments()\n",
    "out_name = sym.list_outputs()\n",
    "print (arg_name)\n",
    "print (out_name)\n",
    "mx.viz.plot_network(sym,hide_weights=True,save_format='pdf',title='resnet8')"
   ]
  },
  {
   "cell_type": "code",
   "execution_count": 10,
   "metadata": {
    "collapsed": true
   },
   "outputs": [],
   "source": [
    ""
   ]
  },
  {
   "cell_type": "code",
   "execution_count": 10,
   "metadata": {
    "scrolled": true
   },
   "outputs": [],
   "source": [
    ""
   ]
  },
  {
   "cell_type": "code",
   "execution_count": null,
   "metadata": {},
   "outputs": [],
   "source": [
    ""
   ]
  }
 ],
 "metadata": {
  "kernelspec": {
   "display_name": "Python 2",
   "language": "python",
   "name": "python2"
  },
  "language_info": {
   "codemirror_mode": {
    "name": "ipython",
    "version": 2.0
   },
   "file_extension": ".py",
   "mimetype": "text/x-python",
   "name": "python",
   "nbconvert_exporter": "python",
   "pygments_lexer": "ipython2",
   "version": "2.7.12"
  }
 },
 "nbformat": 4,
 "nbformat_minor": 0
}